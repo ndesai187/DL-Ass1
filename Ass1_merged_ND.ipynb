{
  "nbformat": 4,
  "nbformat_minor": 0,
  "metadata": {
    "kernelspec": {
      "name": "python3",
      "display_name": "Python 3"
    },
    "language_info": {
      "codemirror_mode": {
        "name": "ipython",
        "version": 3
      },
      "file_extension": ".py",
      "mimetype": "text/x-python",
      "name": "python",
      "nbconvert_exporter": "python",
      "pygments_lexer": "ipython3",
      "version": "3.6.9"
    },
    "colab": {
      "name": "Ass1_merged_ND.ipynb",
      "provenance": [],
      "collapsed_sections": [],
      "toc_visible": true,
      "include_colab_link": true
    },
    "accelerator": "GPU"
  },
  "cells": [
    {
      "cell_type": "markdown",
      "metadata": {
        "id": "view-in-github",
        "colab_type": "text"
      },
      "source": [
        "<a href=\"https://colab.research.google.com/github/ndesai187/DL-Ass1/blob/main/Ass1_merged_ND.ipynb\" target=\"_parent\"><img src=\"https://colab.research.google.com/assets/colab-badge.svg\" alt=\"Open In Colab\"/></a>"
      ]
    },
    {
      "cell_type": "markdown",
      "metadata": {
        "id": "OigpLIHWTQU5"
      },
      "source": [
        "# COMP5329 - Deep Learning\n",
        "## Assignment 1"
      ]
    },
    {
      "cell_type": "markdown",
      "metadata": {
        "id": "NxMRrQEBTQU7"
      },
      "source": [
        "\n",
        "\n",
        "## Load packages"
      ]
    },
    {
      "cell_type": "code",
      "metadata": {
        "id": "PiIktNG2TQU8"
      },
      "source": [
        "import numpy as np\n",
        "import pandas as pd\n",
        "import matplotlib.pyplot as pl\n",
        "import math\n",
        "from ipywidgets import interact, widgets\n",
        "from matplotlib import animation\n",
        "\n",
        "%matplotlib inline"
      ],
      "execution_count": 2,
      "outputs": []
    },
    {
      "cell_type": "markdown",
      "metadata": {
        "id": "UfknvYWYTQU_"
      },
      "source": [
        " ## Mount and load dataset\n"
      ]
    },
    {
      "cell_type": "code",
      "metadata": {
        "colab": {
          "base_uri": "https://localhost:8080/"
        },
        "id": "yiIehkfrx3zC",
        "outputId": "2d6325d4-dc54-472e-f570-12a75f9bddba"
      },
      "source": [
        "from google.colab import drive\n",
        "drive.mount('/content/gdrive')"
      ],
      "execution_count": 3,
      "outputs": [
        {
          "output_type": "stream",
          "text": [
            "Mounted at /content/gdrive\n"
          ],
          "name": "stdout"
        }
      ]
    },
    {
      "cell_type": "code",
      "metadata": {
        "id": "UOTWTdCXySpK"
      },
      "source": [
        "train_data_whole = np.load('/content/gdrive/MyDrive/COMP5329/Assignment1-Dataset/train_data.npy')\n",
        "test_data = np.load('/content/gdrive/MyDrive/COMP5329/Assignment1-Dataset/test_data.npy')\n",
        "\n",
        "train_label_whole = np.load('/content/gdrive/MyDrive/COMP5329/Assignment1-Dataset/train_label.npy')\n",
        "test_label = np.load('/content/gdrive/MyDrive/COMP5329/Assignment1-Dataset/test_label.npy')"
      ],
      "execution_count": 4,
      "outputs": []
    },
    {
      "cell_type": "markdown",
      "metadata": {
        "id": "nS5Og5PG3meN"
      },
      "source": [
        "### Train and Validation Split"
      ]
    },
    {
      "cell_type": "code",
      "metadata": {
        "colab": {
          "base_uri": "https://localhost:8080/"
        },
        "id": "Rlt97Gk_3ln9",
        "outputId": "12abec90-ac5a-4fdf-ae1e-6fbe1ad0a828"
      },
      "source": [
        "def train_validation_split(data_to_split, labels_to_split, \n",
        "                           train_pct = 0.75, validation_pct = 0.25, \n",
        "                           seed_param=0):\n",
        "  np.random.seed(seed_param)\n",
        "  index_len = len(data_to_split)\n",
        "  random_indices = np.random.permutation(index_len)\n",
        "  split_index = int(train_pct * index_len)\n",
        "  train_data = np.take(data_to_split, random_indices[0:split_index],axis=0)\n",
        "  train_label = np.take(labels_to_split, random_indices[0:split_index],axis=0)\n",
        "  validation_data = np.take(data_to_split, random_indices[split_index:],axis=0)\n",
        "  validation_label = np.take(labels_to_split, random_indices[split_index:],axis=0)\n",
        "  return train_data, train_label, validation_data, validation_label\n",
        "  # print(random_indices)\n",
        "  # print(len(random_indices))\n",
        "  # print(split_index)\n",
        "  # print(train_data.shape)\n",
        "  # print(validation_data.shape)\n",
        "  # print(train_data[0] == data_to_split[20354])\n",
        "  # print(train_data[2] == data_to_split[49384])\n",
        "  # print(train_label[0] == labels_to_split[20354])\n",
        "  # print(train_label[2] == labels_to_split[49384])\n",
        "  # print(validation_data[-1] == data_to_split[40689])\n",
        "  # print(validation_data[-3] == data_to_split[9227])\n",
        "  # print(validation_label[-1] == labels_to_split[40689])\n",
        "  # print(validation_label[-3] == labels_to_split[9227])\n",
        "\n",
        "\n",
        "train_data, train_label, valid_data, valid_label = train_validation_split(train_data_whole,\n",
        "                                                                          train_label_whole,\n",
        "                                                                          seed_param=180)\n",
        "\n",
        "print(\"Training data : {} split into => train set : {}, and validation set : {}\".format(train_data_whole.shape,\n",
        "                                                                                        train_data.shape,\n",
        "                                                                                        valid_data.shape))\n",
        "print(\"Similarly, Training labels : {} split into => train labels : {}, and validation labels : {}\".format(\n",
        "                                                                              train_label_whole.shape,\n",
        "                                                                              train_label.shape,\n",
        "                                                                              valid_label.shape))\n"
      ],
      "execution_count": 5,
      "outputs": [
        {
          "output_type": "stream",
          "text": [
            "Training data : (50000, 128) split into => train set : (37500, 128), and validation set : (12500, 128)\n",
            "Similarly, Training labels : (50000, 1) split into => train labels : (37500, 1), and validation labels : (12500, 1)\n"
          ],
          "name": "stdout"
        }
      ]
    },
    {
      "cell_type": "markdown",
      "metadata": {
        "id": "X1YLqe0zTQVF"
      },
      "source": [
        "## Dataset exploration"
      ]
    },
    {
      "cell_type": "code",
      "metadata": {
        "id": "oSvKdlYXAFTZ",
        "colab": {
          "base_uri": "https://localhost:8080/"
        },
        "outputId": "67efff74-78b6-48dd-ec07-b96717517f27"
      },
      "source": [
        "print('Shape of training data: ', train_data.shape)\n",
        "print('Shape of testing data: ', test_data.shape)"
      ],
      "execution_count": 6,
      "outputs": [
        {
          "output_type": "stream",
          "text": [
            "Shape of training data:  (37500, 128)\n",
            "Shape of testing data:  (10000, 128)\n"
          ],
          "name": "stdout"
        }
      ]
    },
    {
      "cell_type": "code",
      "metadata": {
        "id": "B1jR3qaDNavg"
      },
      "source": [
        "unique_labels=np.unique(train_label)\n",
        "\n",
        "# add a dummy value of 100 for binning using histogram function\n",
        "bin_size = np.append(unique_labels,[100])\n",
        "plot_points = np.histogram(train_label, bins=bin_size)"
      ],
      "execution_count": 7,
      "outputs": []
    },
    {
      "cell_type": "code",
      "metadata": {
        "id": "cxNa99zkwEmY",
        "colab": {
          "base_uri": "https://localhost:8080/",
          "height": 530
        },
        "outputId": "cb73f323-886c-4923-ba16-7b1b0e5ed7dd"
      },
      "source": [
        "%matplotlib inline\n",
        "pl.rcParams['figure.figsize'] = [8, 8]\n",
        "pl.title('Training Data Label Distribution')\n",
        "pl.ylabel('Count of Samples')\n",
        "pl.xlabel('Prediction Label')\n",
        "pl.xticks(np.arange(0,10,1))\n",
        "pl.bar(plot_points[1][:-1], plot_points[0], width=0.5)"
      ],
      "execution_count": 8,
      "outputs": [
        {
          "output_type": "execute_result",
          "data": {
            "text/plain": [
              "<BarContainer object of 10 artists>"
            ]
          },
          "metadata": {
            "tags": []
          },
          "execution_count": 8
        },
        {
          "output_type": "display_data",
          "data": {
            "image/png": "[encoded data removed]",
            "text/plain": [
              "<Figure size 576x576 with 1 Axes>"
            ]
          },
          "metadata": {
            "tags": [],
            "needs_background": "light"
          }
        }
      ]
    },
    {
      "cell_type": "code",
      "metadata": {
        "colab": {
          "base_uri": "https://localhost:8080/",
          "height": 513
        },
        "id": "zkPOlBuPNkDU",
        "outputId": "052d6956-b52a-48bc-9ac7-80d524178995"
      },
      "source": [
        "pl.rcParams['figure.figsize'] = [14,8]\n",
        "fig1, ax1 = pl.subplots()\n",
        "random_features=np.random.randint(0,train_data.shape[1]-1,15)\n",
        "ax1.set_title('Feature distribution for random selection')\n",
        "ax1.set_xlabel('Feature Index')\n",
        "ax1.set_xticklabels(random_features)\n",
        "ax1.boxplot(train_data[:,random_features])\n",
        "pl.show()"
      ],
      "execution_count": 9,
      "outputs": [
        {
          "output_type": "display_data",
          "data": {
            "image/png": "[encoded data removed]",
            "text/plain": [
              "<Figure size 1008x576 with 1 Axes>"
            ]
          },
          "metadata": {
            "tags": [],
            "needs_background": "light"
          }
        }
      ]
    },
    {
      "cell_type": "markdown",
      "metadata": {
        "id": "QHlA1Tvreu9W"
      },
      "source": [
        "# Pre Processing\n",
        "### Normalise Data"
      ]
    },
    {
      "cell_type": "code",
      "metadata": {
        "id": "Kf-pV6MdaVFU"
      },
      "source": [
        "# Define Normalisation function with Zero Mean and unit variance\n",
        "def normalize_data(data_set):\n",
        "  \"\"\"\n",
        "    argument\n",
        "      - Input numpy array\n",
        "    Return\n",
        "      - Array returned with zero Mean and unit variance\n",
        "  \"\"\"\n",
        "  mu = data_set.mean(0)\n",
        "  stdv = data_set.std(0)\n",
        "  normalized_data_set = (data_set - mu) / stdv\n",
        "  return normalized_data_set\n",
        "\n",
        "\n",
        "norm_train_data = normalize_data(train_data)\n",
        "norm_test_data = normalize_data(test_data)"
      ],
      "execution_count": 10,
      "outputs": []
    },
    {
      "cell_type": "code",
      "metadata": {
        "colab": {
          "base_uri": "https://localhost:8080/",
          "height": 513
        },
        "id": "b0qDtUGqgM-T",
        "outputId": "a1400e2a-088c-44dc-be97-1226844b58f2"
      },
      "source": [
        "pl.rcParams['figure.figsize'] = [14,8]\n",
        "fig2, ax2 = pl.subplots()\n",
        "ax2.set_title('Feature distribution for random selection')\n",
        "ax2.set_xlabel('Feature Index')\n",
        "ax2.set_xticklabels(random_features)\n",
        "ax2.boxplot(norm_train_data[:,random_features])\n",
        "pl.show()"
      ],
      "execution_count": 11,
      "outputs": [
        {
          "output_type": "display_data",
          "data": {
            "image/png": "[encoded data removed]",
            "text/plain": [
              "<Figure size 1008x576 with 1 Axes>"
            ]
          },
          "metadata": {
            "tags": [],
            "needs_background": "light"
          }
        }
      ]
    },
    {
      "cell_type": "markdown",
      "metadata": {
        "id": "zaKjlOWo_8E0"
      },
      "source": [
        "#### One hot Encoding Target labels"
      ]
    },
    {
      "cell_type": "code",
      "metadata": {
        "colab": {
          "base_uri": "https://localhost:8080/"
        },
        "id": "8nzkqH713Zyi",
        "outputId": "8fcbe473-7be4-4cad-8243-91753fef013d"
      },
      "source": [
        "def one_hot_encoder(arry):\n",
        "  arry_flat = arry.flatten()\n",
        "  class_lables = arry.max() + 1\n",
        "  return np.eye(class_lables)[arry_flat]\n",
        "# a = np.array([1, 0, 3])\n",
        "# a = test_label[0:3,:]\n",
        "# a_flatten = a.flatten()\n",
        "# print(a, a_flatten)\n",
        "# print(a_flatten.size)\n",
        "# b = np.zeros((a_flatten.size, a.max()+1))\n",
        "# b[np.arange(a_flatten.size),a] = 1\n",
        "# print(b)\n",
        "\n",
        "# #values = [1, 0, 3]\n",
        "# n_values = a.max()+1\n",
        "# np.eye(n_values)[a_flatten]\n",
        "\n",
        "\n",
        "y_train_label = one_hot_encoder(train_label)\n",
        "print(y_train_label.shape)\n",
        "print(train_label.shape)"
      ],
      "execution_count": 12,
      "outputs": [
        {
          "output_type": "stream",
          "text": [
            "(37500, 10)\n",
            "(37500, 1)\n"
          ],
          "name": "stdout"
        }
      ]
    },
    {
      "cell_type": "markdown",
      "metadata": {
        "id": "LBbVI6fyTQVI"
      },
      "source": [
        "## Definition of selected activation functions"
      ]
    },
    {
      "cell_type": "markdown",
      "metadata": {
        "id": "Y4ZooR-OTQVK"
      },
      "source": [
        "Linear\n",
        "$$output = x$$\n",
        "\n",
        "Tanh  \n",
        "$$output = tanh(x)$$  \n",
        "\n",
        "Sigmoid\n",
        "$$output = \\frac {1}{1 + e^{-x}}$$\n",
        "\n",
        "ReLU\n",
        "$$output = \\max\\{0, x\\}$$\n",
        "\n",
        "#CHANGES MADE: \n",
        "Added softmax layer... need to add the softmax derivative somewhere"
      ]
    },
    {
      "cell_type": "code",
      "metadata": {
        "id": "csIF2JfSTQVK"
      },
      "source": [
        "# create class for activation functions\n",
        "\n",
        "class Activation(object):\n",
        "    def __tanh(self, x):\n",
        "        return np.tanh(x)\n",
        "    def __tanh_deriv(self, a):\n",
        "        # a = np.tanh(x)   \n",
        "        return 1.0 - a**2\n",
        "\n",
        "    def __logistic(self, x):\n",
        "        return 1.0 / (1.0 + np.exp(-x))\n",
        "    def __logistic_deriv(self, a):\n",
        "        # a = logistic(x) \n",
        "        return  a * (1 - a )\n",
        "\n",
        "    def __relu(self,x): \n",
        "        return np.maximum(0,x)\n",
        "    def __relu_deriv(self, a): #what about case when x = 0? Derivative should be 1\n",
        "        # a = max{0,x}\n",
        "        return 1.0*(a>0)\n",
        "\n",
        "    def __sigmoid(self, x):\n",
        "        return 1/np.exp(-x)\n",
        "    def __sigmoid_deriv(self,a):\n",
        "        return a*(1-a)\n",
        "\n",
        "    def __softmax(self, x):\n",
        "        exps = np.exp(x)\n",
        "        # print(\"softmax exp : {} , exp[0] : {} \".format(exps.shape, exps[0]))\n",
        "        total_sums = np.sum(exps, axis = 1, keepdims=True) \n",
        "        # print(\"softmax sums : {} , sums[0] : {} \".format(total_sums.shape, total_sums[0]))\n",
        "        softmax_out = exps/total_sums\n",
        "        # print(\"softmax shape : {} , output[0] : {} \".format(softmax_out.shape, softmax_out[0]))\n",
        "        # print(\"softmax check : {}\".format(np.sum(softmax_out[0:10,],axis=1)))\n",
        "        return softmax_out\n",
        "        # returns Cx1 vector of probabilities\n",
        "        ## Possibly needed for minibatch - returns Cxm matrix (C = #categories, m = #observations)\n",
        "        # t = np.exp(x)\n",
        "        # total = np.sum(t, axis = 1)\n",
        "        # return t/total[:, None]\n",
        "        # def __softmax_deriv(): ## softmax partial derivative = y_hat - y...? define in hidden layer section?\n",
        "    \n",
        "    def __init__(self,activation='tanh'):\n",
        "        if activation == 'logistic':\n",
        "            self.f = self.__logistic\n",
        "            self.f_deriv = self.__logistic_deriv\n",
        "        elif activation == 'tanh':\n",
        "            self.f = self.__tanh\n",
        "            self.f_deriv = self.__tanh_deriv\n",
        "        elif activation == 'relu':\n",
        "            self.f = self.__relu\n",
        "            self.f_deriv = self.__relu_deriv\n",
        "        elif activation == 'sigmoid':\n",
        "            self.f = self.__sigmoid\n",
        "            self.f_deriv = self.__sigmoid_deriv\n",
        "        elif activation == 'softmax':\n",
        "            self.f = self.__softmax\n",
        "        "
      ],
      "execution_count": 13,
      "outputs": []
    },
    {
      "cell_type": "markdown",
      "metadata": {
        "id": "yfpecqvfaqJX"
      },
      "source": [
        "### Define softmax layer\n",
        "\n",
        "Softmax layer is used in multi-class classification problems to assign conditional probabilities of $x$ belonging to class $k$: \n",
        "\n",
        "$$ \\hat{P}(class_k|x) = z_k = \\frac{e^{net_k}}{\\sum_{i=1}^K e^{net_i}} $$ \n"
      ]
    },
    {
      "cell_type": "code",
      "metadata": {
        "id": "0m4Q29g8aycn"
      },
      "source": [
        "# define softmax layer\n",
        "# def softmax(x):\n",
        "#     \"\"\"Compute softmax values for each sets of scores in x.\"\"\"\n",
        "#     e_x = np.exp(x - np.max(x))\n",
        "#     return e_x / e_x.sum(axis=1) # only difference\n",
        "\n",
        "# Check Softmax dimensions at the end\n",
        "\n",
        "  "
      ],
      "execution_count": 14,
      "outputs": []
    },
    {
      "cell_type": "markdown",
      "metadata": {
        "id": "91dBdVq4TQVN"
      },
      "source": [
        "### Define HiddenLayer"
      ]
    },
    {
      "cell_type": "markdown",
      "metadata": {
        "id": "iBnDirODTQVO"
      },
      "source": [
        "$$output = f_{act}(\\sum_{i=0}^{1}{(I_{i} * W_{i})} + b)$$"
      ]
    },
    {
      "cell_type": "code",
      "metadata": {
        "id": "GymZcsO0TQVO"
      },
      "source": [
        "# now we define the hidden layer for the mlp\n",
        "# for example, h1 = HiddenLayer(10, 5, activation=\"tanh\") means we create a layer with 10 dimension input and 5 dimension output, and using tanh activation function.\n",
        "# notes: make sure the input size of middle layer is matched with the output size of the previous layer!\n",
        "\n",
        "## Need to see where the dimensionality gets matched!\n",
        "class HiddenLayer(object):    \n",
        "    def __init__(self,n_in, n_out,\n",
        "                 activation_last_layer='tanh',activation='tanh', W=None, b=None):\n",
        "        \"\"\"\n",
        "        Typical hidden layer of a MLP: units are fully-connected and have\n",
        "        sigmoidal activation function. Weight matrix W is of shape (n_in,n_out)\n",
        "        and the bias vector b is of shape (n_out,).\n",
        "\n",
        "        NOTE : The nonlinearity used here is tanh\n",
        "\n",
        "        Hidden unit activation is given by: tanh(dot(input,W) + b)\n",
        "\n",
        "        :type n_in: int\n",
        "        :param n_in: dimensionality of input\n",
        "\n",
        "        :type n_out: int\n",
        "        :param n_out: number of hidden units\n",
        "\n",
        "        :type activation: string\n",
        "        :param activation: Non linearity to be applied in the hidden\n",
        "                           layer\n",
        "        \"\"\"\n",
        "        self.input=None\n",
        "        self.activation=Activation(activation).f\n",
        "        \n",
        "        # activation deriv of last layer\n",
        "        self.activation_deriv=None\n",
        "        if activation_last_layer:\n",
        "            self.activation_deriv=Activation(activation_last_layer).f_deriv\n",
        "\n",
        "        # we randomly assign small values for the weights as the initialization\n",
        "        # good weight initialisation is important for model performance! \n",
        "        # These numbers come from Xavier weight initialisation - intialise weights\n",
        "        # by taking a random sample from a uniform distribution, bounded by 'low' \n",
        "        # and 'high' - bounds depend on the n_in and n_out\n",
        "        # Good weight initialisation is important for faster convergence\n",
        "        # Look up good weight initialisation for good values for each activation fn\n",
        "\n",
        "        ## https://machinelearningmastery.com/weight-initialization-for-deep-learning-neural-networks/#:~:text=each%20in%20turn.-,Xavier%20Weight%20Initialization,of%20inputs%20to%20the%20node.\n",
        "        # normalised xavier initialisation is drawn from U(-(sqrt(6)/sqrt(n + m)) and sqrt(6)/sqrt(n + m)) distribution\n",
        "        # commonly used for sigmoid and tanh functions - although derived with the assumption that the activation is linear (not actually the case with these functions)\n",
        "        # makes sense for activations which are symmetric about zero and have outputs within [-1,1]\n",
        "        # see https://towardsdatascience.com/weight-initialization-in-neural-networks-a-journey-from-the-basics-to-kaiming-954fb9b47c79 \n",
        "        self.W = np.random.uniform(\n",
        "                low=-np.sqrt(6. / (n_in + n_out)),\n",
        "                high=np.sqrt(6. / (n_in + n_out)),\n",
        "                size=(n_in, n_out)\n",
        "        )\n",
        "        if activation == 'logistic':\n",
        "            self.W *= 4\n",
        "\n",
        "        # reLU weight initialisation - He initialisation (simulate from N(0, sigma^2 = (2/n)))\n",
        "        if activation == 'relu': \n",
        "            sigma = np.sqrt(2/n_in)\n",
        "            self.W = np.random.normal(loc = 0, scale = sigma, size = (n_in, n_out))\n",
        "\n",
        "        # set the size of bias as the size of output dimension\n",
        "        self.b = np.zeros((1,n_out))\n",
        "        \n",
        "        # set the size of weight gradation as the size of weight\n",
        "        self.grad_W = np.zeros(self.W.shape)\n",
        "        self.grad_b = np.zeros(self.b.shape)\n",
        "        # print(\"At initilization, grad_W.shape : {}, grad_b.shape : {},  W.shape : {}, b.shape : {}\".format(\n",
        "        #    self.grad_W.shape, self.grad_b.shape, self.W.shape, self.b.shape))\n",
        "\n",
        "    \n",
        "    # forward and backward progress for each training epoch\n",
        "    def forward(self, input):\n",
        "        '''\n",
        "        :type input: numpy.array\n",
        "        :param input: a symbolic tensor of shape (n_in,)\n",
        "        '''\n",
        "        lin_output = np.dot(input, self.W) + self.b\n",
        "        # print(\"At forward, input.shape : {}, lin_output.shape : {}\".format(input.shape, lin_output.shape))\n",
        "        self.output = (\n",
        "            lin_output if self.activation is None\n",
        "            else self.activation(lin_output)\n",
        "        )\n",
        "        self.input=input\n",
        "        return self.output\n",
        "    \n",
        "    def backward(self, delta, output_layer=False):         \n",
        "        self.grad_W = np.atleast_2d(self.input).T.dot(np.atleast_2d(delta))\n",
        "        # self.grad_b = delta\n",
        "        self.grad_b = np.sum(delta, axis=0, keepdims = True)\n",
        "        if self.activation_deriv:\n",
        "            delta = delta.dot(self.W.T) * self.activation_deriv(self.input)\n",
        "        return delta"
      ],
      "execution_count": 16,
      "outputs": []
    },
    {
      "cell_type": "markdown",
      "metadata": {
        "id": "KwsUH3fhTQVR"
      },
      "source": [
        "## The MLP\n",
        "\n",
        "The class implements a MLP with a fully configurable number of layers and neurons. It adapts its weights using the backpropagation algorithm in an online manner.\n",
        "\n",
        "# EDITS MADE:\n",
        "Changes: added function criterion_cross_entropy()"
      ]
    },
    {
      "cell_type": "code",
      "metadata": {
        "colab": {
          "base_uri": "https://localhost:8080/"
        },
        "id": "yU9V8FdQhn9g",
        "outputId": "9574f1a5-66de-4c7a-db3e-9c3235793ecc"
      },
      "source": [
        "dum1 = np.random.random((5,5))\n",
        "dum2 = np.argmax(dum1, axis=1)\n",
        "print(dum1, \"and\", dum2)\n",
        "print(dum1[range(dum1.shape[0]), dum2])\n",
        "dum2 -= 1\n",
        "print(dum2)\n",
        "np.mean([128,10])\n",
        "np.mean([69,10])\n",
        "\n",
        "print(np.zeros((1,3)))\n",
        "test5 = np.zeros(math.ceil(37500/3700))\n",
        "print(test5, len(test5))"
      ],
      "execution_count": 21,
      "outputs": [
        {
          "output_type": "stream",
          "text": [
            "[[0.06790343 0.77481434 0.21674982 0.0498745  0.34595854]\n",
            " [0.83872848 0.49173266 0.40734415 0.28793027 0.45048333]\n",
            " [0.17358242 0.541716   0.33564772 0.25132702 0.14905445]\n",
            " [0.56819496 0.02200834 0.42103948 0.64021578 0.67695941]\n",
            " [0.87442971 0.60684784 0.4028643  0.48436919 0.43583767]] and [1 0 1 4 0]\n",
            "[0.77481434 0.83872848 0.541716   0.67695941 0.87442971]\n",
            "[ 0 -1  0  3 -1]\n",
            "[[0. 0. 0.]]\n",
            "[0. 0. 0. 0. 0. 0. 0. 0. 0. 0. 0.] 11\n"
          ],
          "name": "stdout"
        }
      ]
    },
    {
      "cell_type": "code",
      "metadata": {
        "id": "QWpvH41iTQVR"
      },
      "source": [
        "class MLP:\n",
        "    \"\"\"\n",
        "    \"\"\" \n",
        "\n",
        "    # for initialization, the code will create all layers automatically based on the provided parameters.     \n",
        "    def __init__(self, layers, activation=[None,'relu','relu','softmax'],\n",
        "                 batch_norm_enabled = False):\n",
        "        \"\"\"\n",
        "        :param layers: A list containing the number of units in each layer.\n",
        "        Should be at least two values\n",
        "        :param activation: The activation function to be used\n",
        "        \"\"\"        \n",
        "        ### initialize layers\n",
        "        self.layers=[]\n",
        "        self.params=[]\n",
        "        \n",
        "        self.activation=activation\n",
        "        for i in range(len(layers)-1):\n",
        "            self.layers.append(HiddenLayer(layers[i],layers[i+1],activation[i],activation[i+1]))\n",
        "\n",
        "    # forward progress: pass the information through the layers and out the results of final output layer\n",
        "    # HMMMM - REREAD?\n",
        "    def forward(self,input):\n",
        "        for layer in self.layers:\n",
        "            output=layer.forward(input)\n",
        "            input=output\n",
        "        return output\n",
        "\n",
        "    \n",
        "    # # define cross-entropy loss function\n",
        "    def criterion_cross_entropy(self, y_pred, y_target):\n",
        "        total_targets = y_target.shape[0] # total number of targets\n",
        "        target_idx = np.argmax(y_target, axis=1)\n",
        "        negLogLoss = -np.log(y_pred[range(total_targets), target_idx]) # multiply by target value not required as target values = 1 (target probability)\n",
        "        y_pred[range(total_targets), target_idx] -= 1 # again target probabilities = 1\n",
        "        delta = y_pred / total_targets\n",
        "        loss = np.sum(negLogLoss) / total_targets\n",
        "        # print(\"loss shape : {} , loss[0] : {}, delta shape : {}, delta[0] : {}\".format(\n",
        "        #     loss.shape, loss, delta.shape, delta[0]\n",
        "        # ))\n",
        "        return loss, delta\n",
        "\n",
        "\n",
        "    # backward progress  \n",
        "    def backward(self,delta):\n",
        "        delta=self.layers[-1].backward(delta,output_layer=True)\n",
        "        for layer in reversed(self.layers[:-1]):\n",
        "            delta=layer.backward(delta)\n",
        "\n",
        "    # update the network weights after backward.\n",
        "    # make sure you run the backward function before the update function!    \n",
        "    def update(self,lr):\n",
        "        for layer in self.layers:\n",
        "            # print(\"At Update, grad_W.shape : {}, grad_b.shape : {},  W.shape : {}, b.shape : {}\".format(\n",
        "            #     layer.grad_W.shape, layer.grad_b.shape, layer.W.shape, layer.b.shape))\n",
        "            layer.W -= lr * layer.grad_W\n",
        "            layer.b -= lr * layer.grad_b\n",
        " \n",
        "    # define the training function\n",
        "    # it will return all losses within the whole training process.\n",
        "    def fit(self,X, y, X_valid, y_valid,learning_rate=0.1, epochs=100, batch_size=3750):\n",
        "        \"\"\"\n",
        "        Online learning.\n",
        "        :param X: Input data or features\n",
        "        :param y: Input targets\n",
        "        :param learning_rate: parameters defining the speed of learning\n",
        "        :param epochs: number of times the dataset is presented to the network for learning\n",
        "\n",
        "        returns: np.array of size (epochs,)\n",
        "        \"\"\" \n",
        "        # X=np.array(X)\n",
        "        # y=np.array(y)\n",
        "        to_return = np.zeros(epochs)\n",
        "        \n",
        "\n",
        "        # THIS NEEDS TO BE EDITED - currently takes in one observation at a time (SGD - need minibatch)\n",
        "        for k in range(epochs):\n",
        "            print(\"=========================== Going through epoch : {} ===========================\".format(k))\n",
        "            train_loss = np.zeros(math.ceil(X.shape[0]/batch_size))\n",
        "            batch_counter=0\n",
        "            for i in range(0, X.shape[0], batch_size):\n",
        "                print(\"---- Processing batch number : {} ----\".format(batch_counter+1))\n",
        "                batch_in = X[i:i+batch_size,:]\n",
        "                labels = y[i:i+batch_size,:]\n",
        "                batch_loss=np.zeros(batch_in.shape[0])\n",
        "                          \n",
        "                # forward pass\n",
        "                y_pred = self.forward(batch_in)\n",
        "                \n",
        "                # backward pass\n",
        "                batch_loss[k],delta=self.criterion_cross_entropy(y_pred, labels)\n",
        "                self.backward(delta)\n",
        "            \n",
        "                # update\n",
        "                self.update(learning_rate)\n",
        "                train_loss[batch_counter] = np.mean(batch_loss)\n",
        "                batch_counter += 1\n",
        "            to_return[k] = np.mean(train_loss)\n",
        "            print(\"After epoch : {}, train_loss : {}\".format(k, to_return[k]))\n",
        "            train_output = self.predict(X)\n",
        "            train_acc = self.accuracy_score(train_output, y)\n",
        "            valid_output = self.predict(X_valid)\n",
        "            valid_acc = self.accuracy_score(valid_output,y_valid)\n",
        "            print(\"Additional measures, train_acc : {}, valid_acc : {}\".format(train_acc, valid_acc))\n",
        "        return to_return\n",
        "\n",
        "    # define the prediction function\n",
        "    # we can use predict function to predict the results of new data using the trained network.\n",
        "    def predict(self, x):\n",
        "        x = np.array(x)\n",
        "        output = np.zeros((x.shape[0], 10)) # for 10 output classes\n",
        "        # print(\"At predict, output initial shape : {}, predict input share : {}\".format(output.shape, x.shape))\n",
        "        for i in np.arange(x.shape[0]):\n",
        "            # output_prob = self.forward(x[i,:]) \n",
        "            # output[i] = np.argmax(output_prob)\n",
        "            output[i] = self.forward(x[i,:]) \n",
        "        return output    \n",
        "\n",
        "    def accuracy_score(self, pred, target):\n",
        "        labels_pred = np.argmax(pred, axis=1)\n",
        "        labels_target = np.argmax(target, axis=1)\n",
        "        # print(labels_pred.shape, labels_target.shape)\n",
        "        return np.mean((labels_pred[:,] == labels_target[:,]))"
      ],
      "execution_count": 54,
      "outputs": []
    },
    {
      "cell_type": "markdown",
      "metadata": {
        "id": "KlgcO0CNTQVU"
      },
      "source": [
        "## Learning"
      ]
    },
    {
      "cell_type": "code",
      "metadata": {
        "id": "iu7RlvZYTQVV",
        "colab": {
          "base_uri": "https://localhost:8080/"
        },
        "outputId": "0a05f02d-a36b-4bfa-b852-01bc45a94b69"
      },
      "source": [
        "### Test subset of training set\n",
        "# input_sample_x = train_data[:10000, ]\n",
        "# input_sample_y = y_train_label[:10000,]\n",
        "input_sample_x = train_data\n",
        "input_sample_y = y_train_label\n",
        "print(input_sample_x.shape, input_sample_y.shape)"
      ],
      "execution_count": 55,
      "outputs": [
        {
          "output_type": "stream",
          "text": [
            "(37500, 128) (37500, 10)\n"
          ],
          "name": "stdout"
        }
      ]
    },
    {
      "cell_type": "code",
      "metadata": {
        "id": "XEo7LPtITQVX",
        "colab": {
          "base_uri": "https://localhost:8080/"
        },
        "outputId": "70774317-ffa1-4244-9e7c-44e486ad4199"
      },
      "source": [
        "### Try different learning rate and epochs\n",
        "nn = MLP([128,64,32,10], [None,'relu','relu', 'softmax'])\n",
        "logLoss = nn.fit(input_sample_x, input_sample_y ,valid_data, valid_label, learning_rate=0.01, epochs=500)\n",
        "print('### Final Training Loss : %f ###'%logLoss[-1])"
      ],
      "execution_count": 56,
      "outputs": [
        {
          "output_type": "stream",
          "text": [
            "=========================== Going through epoch : 0 ===========================\n",
            "---- Processing batch number : 1 ----\n",
            "---- Processing batch number : 2 ----\n",
            "---- Processing batch number : 3 ----\n",
            "---- Processing batch number : 4 ----\n",
            "---- Processing batch number : 5 ----\n",
            "---- Processing batch number : 6 ----\n",
            "---- Processing batch number : 7 ----\n",
            "---- Processing batch number : 8 ----\n",
            "---- Processing batch number : 9 ----\n",
            "---- Processing batch number : 10 ----\n",
            "After epoch : 0, train_loss : 0.0007745040745420451\n",
            "Additional measures, train_acc : 0.11045333333333333, valid_acc : 0.15016\n",
            "=========================== Going through epoch : 1 ===========================\n",
            "---- Processing batch number : 1 ----\n",
            "---- Processing batch number : 2 ----\n",
            "---- Processing batch number : 3 ----\n",
            "---- Processing batch number : 4 ----\n",
            "---- Processing batch number : 5 ----\n",
            "---- Processing batch number : 6 ----\n",
            "---- Processing batch number : 7 ----\n",
            "---- Processing batch number : 8 ----\n",
            "---- Processing batch number : 9 ----\n",
            "---- Processing batch number : 10 ----\n",
            "After epoch : 1, train_loss : 0.0007220868686318694\n",
            "Additional measures, train_acc : 0.12418666666666667, valid_acc : 0.14312\n",
            "=========================== Going through epoch : 2 ===========================\n",
            "---- Processing batch number : 1 ----\n",
            "---- Processing batch number : 2 ----\n",
            "---- Processing batch number : 3 ----\n",
            "---- Processing batch number : 4 ----\n",
            "---- Processing batch number : 5 ----\n",
            "---- Processing batch number : 6 ----\n",
            "---- Processing batch number : 7 ----\n",
            "---- Processing batch number : 8 ----\n",
            "---- Processing batch number : 9 ----\n",
            "---- Processing batch number : 10 ----\n",
            "After epoch : 2, train_loss : 0.000690890086617972\n",
            "Additional measures, train_acc : 0.13512, valid_acc : 0.13672\n",
            "=========================== Going through epoch : 3 ===========================\n",
            "---- Processing batch number : 1 ----\n",
            "---- Processing batch number : 2 ----\n",
            "---- Processing batch number : 3 ----\n",
            "---- Processing batch number : 4 ----\n",
            "---- Processing batch number : 5 ----\n",
            "---- Processing batch number : 6 ----\n",
            "---- Processing batch number : 7 ----\n",
            "---- Processing batch number : 8 ----\n",
            "---- Processing batch number : 9 ----\n",
            "---- Processing batch number : 10 ----\n",
            "After epoch : 3, train_loss : 0.0006694320528089312\n",
            "Additional measures, train_acc : 0.14269333333333334, valid_acc : 0.13296\n",
            "=========================== Going through epoch : 4 ===========================\n",
            "---- Processing batch number : 1 ----\n",
            "---- Processing batch number : 2 ----\n",
            "---- Processing batch number : 3 ----\n",
            "---- Processing batch number : 4 ----\n",
            "---- Processing batch number : 5 ----\n",
            "---- Processing batch number : 6 ----\n",
            "---- Processing batch number : 7 ----\n",
            "---- Processing batch number : 8 ----\n",
            "---- Processing batch number : 9 ----\n",
            "---- Processing batch number : 10 ----\n",
            "After epoch : 4, train_loss : 0.0006535691490727951\n",
            "Additional measures, train_acc : 0.15088, valid_acc : 0.13088\n",
            "### Final Training Loss : 0.000654 ###\n"
          ],
          "name": "stdout"
        }
      ]
    },
    {
      "cell_type": "markdown",
      "metadata": {
        "id": "T05l4p9mTQVZ"
      },
      "source": [
        "#### Plot loss in epochs\n",
        "We can visualize the loss change during the training process, to under how we can the network. As we can see, the loss stays at the large level at the beginning, but drop quickly within the training. A small loss value indicate a well-trained network."
      ]
    },
    {
      "cell_type": "code",
      "metadata": {
        "id": "gFAUpnzyTQVa",
        "colab": {
          "base_uri": "https://localhost:8080/",
          "height": 268
        },
        "outputId": "d7f1e4c4-81d7-4d06-a641-f0ef6e38fd36"
      },
      "source": [
        "pl.figure(figsize=(15,4))\n",
        "pl.plot(logLoss)\n",
        "pl.grid()"
      ],
      "execution_count": 57,
      "outputs": [
        {
          "output_type": "display_data",
          "data": {
            "image/png": "[encoded data removed]",
            "text/plain": [
              "<Figure size 1080x288 with 1 Axes>"
            ]
          },
          "metadata": {
            "tags": [],
            "needs_background": "light"
          }
        }
      ]
    },
    {
      "cell_type": "markdown",
      "metadata": {
        "id": "gN93ZYW3TQVc"
      },
      "source": [
        "## Testing"
      ]
    },
    {
      "cell_type": "code",
      "metadata": {
        "id": "XpAUm5T7TQVd"
      },
      "source": [
        "output = nn.predict(input_sample_x)"
      ],
      "execution_count": 58,
      "outputs": []
    },
    {
      "cell_type": "code",
      "metadata": {
        "colab": {
          "base_uri": "https://localhost:8080/"
        },
        "id": "JqwLWrk90iJh",
        "outputId": "ca3be469-a5ff-4edb-d00d-64ace15cf9ae"
      },
      "source": [
        "print(output.shape)\n",
        "print(input_sample_y.shape)\n",
        "print(output[0:2], input_sample_y[0:2])\n",
        "\n",
        "def accuracy_score(pred, target):\n",
        "    labels_pred = np.argmax(pred, axis=1)\n",
        "    labels_target = np.argmax(target, axis=1)\n",
        "    # print(labels_pred.shape, labels_target.shape)\n",
        "    return np.mean((labels_pred[:,] == labels_target[:,]))\n",
        "\n",
        "\n",
        "#accuracy_score(output, input_sample_y)\n",
        "print(\"Accuracy score : {} %\".format(accuracy_score(output, input_sample_y) * 100))"
      ],
      "execution_count": 59,
      "outputs": [
        {
          "output_type": "stream",
          "text": [
            "(37500, 10)\n",
            "(37500, 10)\n",
            "[[0.07560138 0.02039548 0.05139977 0.03737926 0.06260523 0.13309088\n",
            "  0.02595389 0.19561362 0.19692213 0.20103836]\n",
            " [0.0521058  0.09529603 0.13200598 0.07124702 0.09270669 0.06579198\n",
            "  0.11355915 0.2008496  0.11041496 0.06602279]] [[0. 0. 0. 0. 0. 0. 0. 0. 0. 1.]\n",
            " [0. 0. 0. 0. 0. 1. 0. 0. 0. 0.]]\n",
            "Accuracy score : 15.088 %\n"
          ],
          "name": "stdout"
        }
      ]
    },
    {
      "cell_type": "code",
      "metadata": {
        "id": "91AzCBBX7Xi0"
      },
      "source": [
        "output_valid = nn.predict(valid_data)"
      ],
      "execution_count": 60,
      "outputs": []
    },
    {
      "cell_type": "code",
      "metadata": {
        "colab": {
          "base_uri": "https://localhost:8080/"
        },
        "id": "rFWzTbhb71r9",
        "outputId": "ebfec794-95a6-4d8a-859f-5260d19e4e6e"
      },
      "source": [
        "print(\"Accuracy score : {} %\".format(accuracy_score(output_valid, valid_label) * 100))"
      ],
      "execution_count": 61,
      "outputs": [
        {
          "output_type": "stream",
          "text": [
            "Accuracy score : 13.088 %\n"
          ],
          "name": "stdout"
        }
      ]
    },
    {
      "cell_type": "code",
      "metadata": {
        "id": "Y9DTHUbXTQVg"
      },
      "source": [
        "# # visualizing the predict results\n",
        "# # notes: since we use tanh function for the final layer, that means the output will be in range of [0,1]\n",
        "# pl.figure(figsize=(8,6))\n",
        "# pl.scatter(input_sample_y, output, s=100)\n",
        "# pl.xlabel('Targets')\n",
        "# pl.ylabel('MLP output')\n",
        "# pl.grid()"
      ],
      "execution_count": 62,
      "outputs": []
    }
  ]
}